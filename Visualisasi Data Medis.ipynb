{
 "cells": [
  {
   "cell_type": "markdown",
   "id": "b6b17872",
   "metadata": {},
   "source": [
    "# Visualisasi Data Medis"
   ]
  },
  {
   "cell_type": "markdown",
   "id": "3347c87e",
   "metadata": {},
   "source": [
    "Import Modules"
   ]
  },
  {
   "cell_type": "markdown",
   "id": "9beaddd5",
   "metadata": {},
   "source": [
    "Tasks\n",
    "Create a chart similar to examples/Figure_1.png, where we show the counts of good and bad outcomes for the cholesterol, gluc, alco, active, and smoke variables for patients with cardio=1 and cardio=0 in different panels.\n",
    "\n",
    "Use the data to complete the following tasks in medical_data_visualizer.py:\n",
    "\n",
    "Add an overweight column to the data. To determine if a person is overweight, first calculate their BMI by dividing their weight in kilograms by the square of their height in meters. If that value is > 25 then the person is overweight. Use the value 0 for NOT overweight and the value 1 for overweight.\n",
    "Normalize the data by making 0 always good and 1 always bad. If the value of cholesterol or gluc is 1, make the value 0. If the value is more than 1, make the value 1.\n",
    "Convert the data into long format and create a chart that shows the value counts of the categorical features using seaborn's catplot(). The dataset should be split by 'Cardio' so there is one chart for each cardio value. The chart should look like examples/Figure_1.png.\n",
    "Clean the data. Filter out the following patient segments that represent incorrect data:\n",
    "diastolic pressure is higher than systolic (Keep the correct data with (df['ap_lo'] <= df['ap_hi']))\n",
    "height is less than the 2.5th percentile (Keep the correct data with (df['height'] >= df['height'].quantile(0.025)))\n",
    "height is more than the 97.5th percentile\n",
    "weight is less than the 2.5th percentile\n",
    "weight is more than the 97.5th percentile\n",
    "Create a correlation matrix using the dataset. Plot the correlation matrix using seaborn's heatmap(). Mask the upper triangle. The chart should look like examples/Figure_2.png."
   ]
  },
  {
   "cell_type": "code",
   "execution_count": 1,
   "id": "4f1da4d9",
   "metadata": {},
   "outputs": [],
   "source": [
    "import pandas as pd\n",
    "import numpy as np\n",
    "import matplotlib.pyplot as plt\n",
    "import seaborn as sns"
   ]
  },
  {
   "cell_type": "markdown",
   "id": "4c4c8e43",
   "metadata": {},
   "source": [
    "Memuat Dataset"
   ]
  },
  {
   "cell_type": "code",
   "execution_count": 4,
   "id": "4f3fe7c7",
   "metadata": {},
   "outputs": [],
   "source": [
    "data_loc = 'F:\\Documents\\File Ino\\Portfolio\\Data\\medical_examination.csv'\n",
    "data = pd.read_csv(data_loc)"
   ]
  },
  {
   "cell_type": "code",
   "execution_count": 5,
   "id": "0ce5821f",
   "metadata": {},
   "outputs": [
    {
     "data": {
      "text/html": [
       "<div>\n",
       "<style scoped>\n",
       "    .dataframe tbody tr th:only-of-type {\n",
       "        vertical-align: middle;\n",
       "    }\n",
       "\n",
       "    .dataframe tbody tr th {\n",
       "        vertical-align: top;\n",
       "    }\n",
       "\n",
       "    .dataframe thead th {\n",
       "        text-align: right;\n",
       "    }\n",
       "</style>\n",
       "<table border=\"1\" class=\"dataframe\">\n",
       "  <thead>\n",
       "    <tr style=\"text-align: right;\">\n",
       "      <th></th>\n",
       "      <th>id</th>\n",
       "      <th>age</th>\n",
       "      <th>gender</th>\n",
       "      <th>height</th>\n",
       "      <th>weight</th>\n",
       "      <th>ap_hi</th>\n",
       "      <th>ap_lo</th>\n",
       "      <th>cholesterol</th>\n",
       "      <th>gluc</th>\n",
       "      <th>smoke</th>\n",
       "      <th>alco</th>\n",
       "      <th>active</th>\n",
       "      <th>cardio</th>\n",
       "    </tr>\n",
       "  </thead>\n",
       "  <tbody>\n",
       "    <tr>\n",
       "      <th>0</th>\n",
       "      <td>0</td>\n",
       "      <td>18393</td>\n",
       "      <td>2</td>\n",
       "      <td>168</td>\n",
       "      <td>62.0</td>\n",
       "      <td>110</td>\n",
       "      <td>80</td>\n",
       "      <td>1</td>\n",
       "      <td>1</td>\n",
       "      <td>0</td>\n",
       "      <td>0</td>\n",
       "      <td>1</td>\n",
       "      <td>0</td>\n",
       "    </tr>\n",
       "    <tr>\n",
       "      <th>1</th>\n",
       "      <td>1</td>\n",
       "      <td>20228</td>\n",
       "      <td>1</td>\n",
       "      <td>156</td>\n",
       "      <td>85.0</td>\n",
       "      <td>140</td>\n",
       "      <td>90</td>\n",
       "      <td>3</td>\n",
       "      <td>1</td>\n",
       "      <td>0</td>\n",
       "      <td>0</td>\n",
       "      <td>1</td>\n",
       "      <td>1</td>\n",
       "    </tr>\n",
       "    <tr>\n",
       "      <th>2</th>\n",
       "      <td>2</td>\n",
       "      <td>18857</td>\n",
       "      <td>1</td>\n",
       "      <td>165</td>\n",
       "      <td>64.0</td>\n",
       "      <td>130</td>\n",
       "      <td>70</td>\n",
       "      <td>3</td>\n",
       "      <td>1</td>\n",
       "      <td>0</td>\n",
       "      <td>0</td>\n",
       "      <td>0</td>\n",
       "      <td>1</td>\n",
       "    </tr>\n",
       "    <tr>\n",
       "      <th>3</th>\n",
       "      <td>3</td>\n",
       "      <td>17623</td>\n",
       "      <td>2</td>\n",
       "      <td>169</td>\n",
       "      <td>82.0</td>\n",
       "      <td>150</td>\n",
       "      <td>100</td>\n",
       "      <td>1</td>\n",
       "      <td>1</td>\n",
       "      <td>0</td>\n",
       "      <td>0</td>\n",
       "      <td>1</td>\n",
       "      <td>1</td>\n",
       "    </tr>\n",
       "    <tr>\n",
       "      <th>4</th>\n",
       "      <td>4</td>\n",
       "      <td>17474</td>\n",
       "      <td>1</td>\n",
       "      <td>156</td>\n",
       "      <td>56.0</td>\n",
       "      <td>100</td>\n",
       "      <td>60</td>\n",
       "      <td>1</td>\n",
       "      <td>1</td>\n",
       "      <td>0</td>\n",
       "      <td>0</td>\n",
       "      <td>0</td>\n",
       "      <td>0</td>\n",
       "    </tr>\n",
       "  </tbody>\n",
       "</table>\n",
       "</div>"
      ],
      "text/plain": [
       "   id    age  gender  height  weight  ap_hi  ap_lo  cholesterol  gluc  smoke  \\\n",
       "0   0  18393       2     168    62.0    110     80            1     1      0   \n",
       "1   1  20228       1     156    85.0    140     90            3     1      0   \n",
       "2   2  18857       1     165    64.0    130     70            3     1      0   \n",
       "3   3  17623       2     169    82.0    150    100            1     1      0   \n",
       "4   4  17474       1     156    56.0    100     60            1     1      0   \n",
       "\n",
       "   alco  active  cardio  \n",
       "0     0       1       0  \n",
       "1     0       1       1  \n",
       "2     0       0       1  \n",
       "3     0       1       1  \n",
       "4     0       0       0  "
      ]
     },
     "execution_count": 5,
     "metadata": {},
     "output_type": "execute_result"
    }
   ],
   "source": [
    "#Melihat 5 baris pertama dari dataset\n",
    "data.head()"
   ]
  },
  {
   "cell_type": "code",
   "execution_count": 7,
   "id": "0417676c",
   "metadata": {},
   "outputs": [
    {
     "name": "stdout",
     "output_type": "stream",
     "text": [
      "[21.96712018 34.92767916 23.50780533 ... 31.35357879 27.09925101\n",
      " 24.91349481]\n"
     ]
    }
   ],
   "source": [
    "ibm = (data[\"weight\"] / ((data[\"height\"]/100) ** 2 ))\n",
    "ibm = np.array(ibm)\n",
    "print(ibm)"
   ]
  },
  {
   "cell_type": "code",
   "execution_count": 8,
   "id": "d1d85c6d",
   "metadata": {},
   "outputs": [],
   "source": [
    "ibm = np.where(ibm > 25, 1, 0 )"
   ]
  },
  {
   "cell_type": "code",
   "execution_count": 11,
   "id": "2dea593d",
   "metadata": {},
   "outputs": [
    {
     "name": "stdout",
     "output_type": "stream",
     "text": [
      "0        0\n",
      "1        1\n",
      "2        0\n",
      "3        1\n",
      "4        0\n",
      "        ..\n",
      "69995    1\n",
      "69996    1\n",
      "69997    1\n",
      "69998    1\n",
      "69999    0\n",
      "Name: overweight, Length: 70000, dtype: int32\n"
     ]
    }
   ],
   "source": [
    "data['overweight'] = ibm.astype(int)\n",
    "\n",
    "print(data['overweight'])"
   ]
  },
  {
   "cell_type": "code",
   "execution_count": 13,
   "id": "af9c25bb",
   "metadata": {},
   "outputs": [],
   "source": [
    "data[\"cholesterol\"] = np.where((data[\"cholesterol\"] == 1), 0, 1 )\n",
    "data[\"gluc\"] = np.where((data[\"gluc\"] == 1), 0, 1)"
   ]
  },
  {
   "cell_type": "code",
   "execution_count": 30,
   "id": "3693698b",
   "metadata": {},
   "outputs": [
    {
     "data": {
      "text/html": [
       "<div>\n",
       "<style scoped>\n",
       "    .dataframe tbody tr th:only-of-type {\n",
       "        vertical-align: middle;\n",
       "    }\n",
       "\n",
       "    .dataframe tbody tr th {\n",
       "        vertical-align: top;\n",
       "    }\n",
       "\n",
       "    .dataframe thead th {\n",
       "        text-align: right;\n",
       "    }\n",
       "</style>\n",
       "<table border=\"1\" class=\"dataframe\">\n",
       "  <thead>\n",
       "    <tr style=\"text-align: right;\">\n",
       "      <th></th>\n",
       "      <th>cardio</th>\n",
       "      <th>variable</th>\n",
       "      <th>value</th>\n",
       "    </tr>\n",
       "  </thead>\n",
       "  <tbody>\n",
       "    <tr>\n",
       "      <th>0</th>\n",
       "      <td>0</td>\n",
       "      <td>active</td>\n",
       "      <td>1</td>\n",
       "    </tr>\n",
       "    <tr>\n",
       "      <th>1</th>\n",
       "      <td>1</td>\n",
       "      <td>active</td>\n",
       "      <td>1</td>\n",
       "    </tr>\n",
       "    <tr>\n",
       "      <th>2</th>\n",
       "      <td>1</td>\n",
       "      <td>active</td>\n",
       "      <td>0</td>\n",
       "    </tr>\n",
       "    <tr>\n",
       "      <th>3</th>\n",
       "      <td>1</td>\n",
       "      <td>active</td>\n",
       "      <td>1</td>\n",
       "    </tr>\n",
       "    <tr>\n",
       "      <th>4</th>\n",
       "      <td>0</td>\n",
       "      <td>active</td>\n",
       "      <td>0</td>\n",
       "    </tr>\n",
       "    <tr>\n",
       "      <th>5</th>\n",
       "      <td>0</td>\n",
       "      <td>active</td>\n",
       "      <td>0</td>\n",
       "    </tr>\n",
       "    <tr>\n",
       "      <th>6</th>\n",
       "      <td>0</td>\n",
       "      <td>active</td>\n",
       "      <td>1</td>\n",
       "    </tr>\n",
       "    <tr>\n",
       "      <th>7</th>\n",
       "      <td>1</td>\n",
       "      <td>active</td>\n",
       "      <td>1</td>\n",
       "    </tr>\n",
       "    <tr>\n",
       "      <th>8</th>\n",
       "      <td>0</td>\n",
       "      <td>active</td>\n",
       "      <td>1</td>\n",
       "    </tr>\n",
       "    <tr>\n",
       "      <th>9</th>\n",
       "      <td>0</td>\n",
       "      <td>active</td>\n",
       "      <td>0</td>\n",
       "    </tr>\n",
       "    <tr>\n",
       "      <th>10</th>\n",
       "      <td>0</td>\n",
       "      <td>active</td>\n",
       "      <td>1</td>\n",
       "    </tr>\n",
       "    <tr>\n",
       "      <th>11</th>\n",
       "      <td>0</td>\n",
       "      <td>active</td>\n",
       "      <td>1</td>\n",
       "    </tr>\n",
       "    <tr>\n",
       "      <th>12</th>\n",
       "      <td>0</td>\n",
       "      <td>active</td>\n",
       "      <td>0</td>\n",
       "    </tr>\n",
       "    <tr>\n",
       "      <th>13</th>\n",
       "      <td>0</td>\n",
       "      <td>active</td>\n",
       "      <td>1</td>\n",
       "    </tr>\n",
       "    <tr>\n",
       "      <th>14</th>\n",
       "      <td>0</td>\n",
       "      <td>active</td>\n",
       "      <td>1</td>\n",
       "    </tr>\n",
       "    <tr>\n",
       "      <th>15</th>\n",
       "      <td>1</td>\n",
       "      <td>active</td>\n",
       "      <td>0</td>\n",
       "    </tr>\n",
       "    <tr>\n",
       "      <th>16</th>\n",
       "      <td>0</td>\n",
       "      <td>active</td>\n",
       "      <td>0</td>\n",
       "    </tr>\n",
       "    <tr>\n",
       "      <th>17</th>\n",
       "      <td>0</td>\n",
       "      <td>active</td>\n",
       "      <td>1</td>\n",
       "    </tr>\n",
       "    <tr>\n",
       "      <th>18</th>\n",
       "      <td>0</td>\n",
       "      <td>active</td>\n",
       "      <td>0</td>\n",
       "    </tr>\n",
       "    <tr>\n",
       "      <th>19</th>\n",
       "      <td>0</td>\n",
       "      <td>active</td>\n",
       "      <td>1</td>\n",
       "    </tr>\n",
       "  </tbody>\n",
       "</table>\n",
       "</div>"
      ],
      "text/plain": [
       "    cardio variable  value\n",
       "0        0   active      1\n",
       "1        1   active      1\n",
       "2        1   active      0\n",
       "3        1   active      1\n",
       "4        0   active      0\n",
       "5        0   active      0\n",
       "6        0   active      1\n",
       "7        1   active      1\n",
       "8        0   active      1\n",
       "9        0   active      0\n",
       "10       0   active      1\n",
       "11       0   active      1\n",
       "12       0   active      0\n",
       "13       0   active      1\n",
       "14       0   active      1\n",
       "15       1   active      0\n",
       "16       0   active      0\n",
       "17       0   active      1\n",
       "18       0   active      0\n",
       "19       0   active      1"
      ]
     },
     "execution_count": 30,
     "metadata": {},
     "output_type": "execute_result"
    }
   ],
   "source": [
    "data_cat = pd.melt(data, id_vars=[\"cardio\"], value_vars=['active', 'alco', 'cholesterol' , 'gluc', 'overweight', 'smoke'] )\n",
    "data_cat.head(20)"
   ]
  },
  {
   "cell_type": "code",
   "execution_count": 15,
   "id": "160aa021",
   "metadata": {},
   "outputs": [
    {
     "data": {
      "image/png": "[encoded data removed]",
      "text/plain": [
       "<Figure size 762.375x360 with 2 Axes>"
      ]
     },
     "metadata": {
      "needs_background": "light"
     },
     "output_type": "display_data"
    }
   ],
   "source": [
    "figure = sns.catplot(x= \"variable\", kind =\"count\" ,hue = \"value\", data = data_cat, col= \"cardio\")\n",
    "\n",
    "figure.set_axis_labels(\"variable\", \"total\")\n",
    "\n",
    "fig = figure.fig"
   ]
  },
  {
   "cell_type": "code",
   "execution_count": 17,
   "id": "d5b38564",
   "metadata": {},
   "outputs": [],
   "source": [
    "data_heat = data[(data['ap_lo'] <= data['ap_hi']) & (data['height'] >= data['height'].quantile(0.025))\n",
    "& (data['height'] <= data['height'].quantile(0.975) )\n",
    "& (data['weight'] >= data['weight'].quantile(0.025))\n",
    "& (data['weight'] <= data['weight'].quantile(0.975) ) ]"
   ]
  },
  {
   "cell_type": "code",
   "execution_count": 19,
   "id": "b42038f6",
   "metadata": {},
   "outputs": [],
   "source": [
    "corr = data_heat.corr( )"
   ]
  },
  {
   "cell_type": "code",
   "execution_count": 20,
   "id": "66e3ba4c",
   "metadata": {},
   "outputs": [],
   "source": [
    "mask = np.triu(np.ones_like(corr, dtype= bool))"
   ]
  },
  {
   "cell_type": "code",
   "execution_count": 25,
   "id": "aa78c79a",
   "metadata": {},
   "outputs": [
    {
     "data": {
      "image/png": "[encoded data removed]",
      "text/plain": [
       "<Figure size 720x720 with 2 Axes>"
      ]
     },
     "metadata": {
      "needs_background": "light"
     },
     "output_type": "display_data"
    }
   ],
   "source": [
    "fig, ax = plt.subplots(figsize = (10,10))\n",
    "dataplot = sns.heatmap(corr, fmt=\".1f\", vmax= 0.26,annot_kws={'size':11}, cmap='magma', annot=True, mask=mask)\n",
    "plt.show()"
   ]
  },
  {
   "cell_type": "code",
   "execution_count": null,
   "id": "9fa3ee0c",
   "metadata": {},
   "outputs": [],
   "source": []
  }
 ],
 "metadata": {
  "kernelspec": {
   "display_name": "Python 3 (ipykernel)",
   "language": "python",
   "name": "python3"
  },
  "language_info": {
   "codemirror_mode": {
    "name": "ipython",
    "version": 3
   },
   "file_extension": ".py",
   "mimetype": "text/x-python",
   "name": "python",
   "nbconvert_exporter": "python",
   "pygments_lexer": "ipython3",
   "version": "3.9.7"
  }
 },
 "nbformat": 4,
 "nbformat_minor": 5
}
